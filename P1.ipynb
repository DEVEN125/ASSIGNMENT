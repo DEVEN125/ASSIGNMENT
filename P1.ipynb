{
 "cells": [
  {
   "cell_type": "code",
   "execution_count": 1,
   "id": "d9b80a30-6674-4393-9d2b-e5c71f4f9900",
   "metadata": {},
   "outputs": [],
   "source": [
    "a=1"
   ]
  },
  {
   "cell_type": "code",
   "execution_count": 2,
   "id": "5b2c9fe5-1a58-43a0-8094-a63b248da2cf",
   "metadata": {},
   "outputs": [
    {
     "data": {
      "text/plain": [
       "1"
      ]
     },
     "execution_count": 2,
     "metadata": {},
     "output_type": "execute_result"
    }
   ],
   "source": [
    "a"
   ]
  },
  {
   "cell_type": "code",
   "execution_count": 3,
   "id": "af991781-93a4-4d61-ab6a-426574e7e68b",
   "metadata": {},
   "outputs": [],
   "source": [
    "b=2"
   ]
  },
  {
   "cell_type": "code",
   "execution_count": 4,
   "id": "5bb59dde-1f99-4736-abe6-31bff13ec168",
   "metadata": {},
   "outputs": [
    {
     "data": {
      "text/plain": [
       "2"
      ]
     },
     "execution_count": 4,
     "metadata": {},
     "output_type": "execute_result"
    }
   ],
   "source": [
    "b"
   ]
  },
  {
   "cell_type": "code",
   "execution_count": 5,
   "id": "c52e208d-d583-49b5-b0ee-788226564cc7",
   "metadata": {},
   "outputs": [
    {
     "data": {
      "text/plain": [
       "3"
      ]
     },
     "execution_count": 5,
     "metadata": {},
     "output_type": "execute_result"
    }
   ],
   "source": [
    "a+b"
   ]
  },
  {
   "cell_type": "code",
   "execution_count": 6,
   "id": "e35afc71-4de0-4be3-af06-b2e4d76712f4",
   "metadata": {},
   "outputs": [],
   "source": [
    "c=('i m devil')"
   ]
  },
  {
   "cell_type": "code",
   "execution_count": 7,
   "id": "5332fe91-ee76-4b8d-a412-c5facc26d736",
   "metadata": {},
   "outputs": [
    {
     "data": {
      "text/plain": [
       "'i m devil'"
      ]
     },
     "execution_count": 7,
     "metadata": {},
     "output_type": "execute_result"
    }
   ],
   "source": [
    "c"
   ]
  },
  {
   "cell_type": "code",
   "execution_count": 8,
   "id": "420bff0a-2bd9-4f3e-99e1-f87196fb7aea",
   "metadata": {},
   "outputs": [
    {
     "data": {
      "text/plain": [
       "str"
      ]
     },
     "execution_count": 8,
     "metadata": {},
     "output_type": "execute_result"
    }
   ],
   "source": [
    "type(c)"
   ]
  },
  {
   "cell_type": "code",
   "execution_count": 10,
   "id": "48ab9ecf-2672-4970-8829-fd993f5bac34",
   "metadata": {},
   "outputs": [
    {
     "data": {
      "text/plain": [
       "int"
      ]
     },
     "execution_count": 10,
     "metadata": {},
     "output_type": "execute_result"
    }
   ],
   "source": [
    "type(b)"
   ]
  },
  {
   "cell_type": "code",
   "execution_count": 11,
   "id": "057b6661-f091-4e01-89c7-5885aeee5796",
   "metadata": {},
   "outputs": [],
   "source": [
    "e=1+2j"
   ]
  },
  {
   "cell_type": "code",
   "execution_count": 12,
   "id": "9c0cdf1d-b51d-4909-9b4a-aad8f413176c",
   "metadata": {},
   "outputs": [
    {
     "data": {
      "text/plain": [
       "complex"
      ]
     },
     "execution_count": 12,
     "metadata": {},
     "output_type": "execute_result"
    }
   ],
   "source": [
    "type(e)"
   ]
  },
  {
   "cell_type": "code",
   "execution_count": 13,
   "id": "8844d1f1-b9e7-42d8-bd70-e2eeb8f87ae3",
   "metadata": {},
   "outputs": [],
   "source": [
    "f=2.3"
   ]
  },
  {
   "cell_type": "code",
   "execution_count": 14,
   "id": "aab28ee6-255f-42d3-beaf-f1aa291b6d9d",
   "metadata": {},
   "outputs": [
    {
     "data": {
      "text/plain": [
       "float"
      ]
     },
     "execution_count": 14,
     "metadata": {},
     "output_type": "execute_result"
    }
   ],
   "source": [
    "type(f)"
   ]
  },
  {
   "cell_type": "code",
   "execution_count": 15,
   "id": "f5b07464-9ccc-43d7-8e21-feffc324d384",
   "metadata": {},
   "outputs": [],
   "source": [
    "g=True"
   ]
  },
  {
   "cell_type": "code",
   "execution_count": 16,
   "id": "88fe32c2-5545-467c-8d5c-f53def8192e3",
   "metadata": {},
   "outputs": [
    {
     "data": {
      "text/plain": [
       "bool"
      ]
     },
     "execution_count": 16,
     "metadata": {},
     "output_type": "execute_result"
    }
   ],
   "source": [
    "type(g)"
   ]
  },
  {
   "cell_type": "code",
   "execution_count": 18,
   "id": "c9362827-ee0d-47bf-b26c-5c577ced8863",
   "metadata": {},
   "outputs": [],
   "source": [
    "h=False"
   ]
  },
  {
   "cell_type": "code",
   "execution_count": 23,
   "id": "070e4508-583f-4164-aa28-ad17d43df14a",
   "metadata": {},
   "outputs": [],
   "source": [
    "j=g+h"
   ]
  },
  {
   "cell_type": "code",
   "execution_count": 24,
   "id": "d804c227-59f9-4d10-aa1c-9676feaa0fff",
   "metadata": {},
   "outputs": [
    {
     "data": {
      "text/plain": [
       "1"
      ]
     },
     "execution_count": 24,
     "metadata": {},
     "output_type": "execute_result"
    }
   ],
   "source": [
    "j"
   ]
  },
  {
   "cell_type": "code",
   "execution_count": 25,
   "id": "eba3242c-6ba5-4f58-b328-117c00db0f52",
   "metadata": {},
   "outputs": [
    {
     "data": {
      "text/plain": [
       "2"
      ]
     },
     "execution_count": 25,
     "metadata": {},
     "output_type": "execute_result"
    }
   ],
   "source": [
    "True+True"
   ]
  },
  {
   "cell_type": "code",
   "execution_count": 26,
   "id": "bae6d7d4-4723-4e97-8ac1-174064bb6833",
   "metadata": {},
   "outputs": [
    {
     "data": {
      "text/plain": [
       "1"
      ]
     },
     "execution_count": 26,
     "metadata": {},
     "output_type": "execute_result"
    }
   ],
   "source": [
    "True+False"
   ]
  },
  {
   "cell_type": "code",
   "execution_count": 27,
   "id": "7d216bef-ef26-43ed-8ed7-ee5a2f827068",
   "metadata": {},
   "outputs": [],
   "source": [
    "e=1+2j"
   ]
  },
  {
   "cell_type": "code",
   "execution_count": 28,
   "id": "87f31834-d704-49b2-aaee-e9a41ec95906",
   "metadata": {},
   "outputs": [
    {
     "data": {
      "text/plain": [
       "1.0"
      ]
     },
     "execution_count": 28,
     "metadata": {},
     "output_type": "execute_result"
    }
   ],
   "source": [
    "e.real"
   ]
  },
  {
   "cell_type": "code",
   "execution_count": 29,
   "id": "a37636a4-551e-42f2-8cf7-051a16b2a7dd",
   "metadata": {},
   "outputs": [
    {
     "data": {
      "text/plain": [
       "2.0"
      ]
     },
     "execution_count": 29,
     "metadata": {},
     "output_type": "execute_result"
    }
   ],
   "source": [
    "e.imag"
   ]
  },
  {
   "cell_type": "code",
   "execution_count": 30,
   "id": "adb755bc-150a-4322-8e28-0ae59d3c1030",
   "metadata": {},
   "outputs": [
    {
     "data": {
      "text/plain": [
       "(1+2j)"
      ]
     },
     "execution_count": 30,
     "metadata": {},
     "output_type": "execute_result"
    }
   ],
   "source": [
    "e"
   ]
  },
  {
   "cell_type": "code",
   "execution_count": 31,
   "id": "624299bc-814c-4efa-98d6-7a7da77ece3c",
   "metadata": {},
   "outputs": [
    {
     "name": "stdout",
     "output_type": "stream",
     "text": [
      "the king is in bond\n"
     ]
    }
   ],
   "source": [
    "print('the king is in bond')"
   ]
  },
  {
   "cell_type": "code",
   "execution_count": 32,
   "id": "847c8973-2a3a-4f2d-9b9e-32722440173b",
   "metadata": {},
   "outputs": [
    {
     "name": "stdout",
     "output_type": "stream",
     "text": [
      "(1+2j)\n"
     ]
    }
   ],
   "source": [
    "print(e)"
   ]
  },
  {
   "cell_type": "code",
   "execution_count": 33,
   "id": "659a73c6-1aef-4175-a474-bfedfeb2c726",
   "metadata": {},
   "outputs": [],
   "source": [
    "k=\"ABCD\""
   ]
  },
  {
   "cell_type": "code",
   "execution_count": 34,
   "id": "fa770861-26ba-4b30-933c-f456d3a70629",
   "metadata": {},
   "outputs": [
    {
     "data": {
      "text/plain": [
       "'ABCD'"
      ]
     },
     "execution_count": 34,
     "metadata": {},
     "output_type": "execute_result"
    }
   ],
   "source": [
    "k"
   ]
  },
  {
   "cell_type": "code",
   "execution_count": 36,
   "id": "6cca7b40-506d-4a7c-847c-0a49cad17d6c",
   "metadata": {},
   "outputs": [
    {
     "data": {
      "text/plain": [
       "'D'"
      ]
     },
     "execution_count": 36,
     "metadata": {},
     "output_type": "execute_result"
    }
   ],
   "source": [
    "k[3]"
   ]
  },
  {
   "cell_type": "code",
   "execution_count": 37,
   "id": "9f0fb485-8ae6-4c1d-abf3-dfc4186f2f54",
   "metadata": {},
   "outputs": [
    {
     "data": {
      "text/plain": [
       "'B'"
      ]
     },
     "execution_count": 37,
     "metadata": {},
     "output_type": "execute_result"
    }
   ],
   "source": [
    "k[1]"
   ]
  },
  {
   "cell_type": "code",
   "execution_count": 38,
   "id": "90358eb8-fe81-4b85-b077-dbe20c9e5784",
   "metadata": {},
   "outputs": [
    {
     "data": {
      "text/plain": [
       "'A'"
      ]
     },
     "execution_count": 38,
     "metadata": {},
     "output_type": "execute_result"
    }
   ],
   "source": [
    "k[0]"
   ]
  },
  {
   "cell_type": "code",
   "execution_count": 40,
   "id": "1a443ae1-19d1-47c2-8db8-f1e8ec0079f2",
   "metadata": {},
   "outputs": [
    {
     "data": {
      "text/plain": [
       "'AB'"
      ]
     },
     "execution_count": 40,
     "metadata": {},
     "output_type": "execute_result"
    }
   ],
   "source": [
    "k[0:2]"
   ]
  },
  {
   "cell_type": "code",
   "execution_count": 41,
   "id": "25c4ca92-bdd1-42da-8928-69499d66e297",
   "metadata": {},
   "outputs": [
    {
     "data": {
      "text/plain": [
       "'ABC'"
      ]
     },
     "execution_count": 41,
     "metadata": {},
     "output_type": "execute_result"
    }
   ],
   "source": [
    "k[0:3]"
   ]
  },
  {
   "cell_type": "code",
   "execution_count": 42,
   "id": "05d7b5b7-e056-4237-bf7d-52fc31cc0125",
   "metadata": {},
   "outputs": [
    {
     "data": {
      "text/plain": [
       "'ABC'"
      ]
     },
     "execution_count": 42,
     "metadata": {},
     "output_type": "execute_result"
    }
   ],
   "source": [
    "k[0:3:1]"
   ]
  },
  {
   "cell_type": "code",
   "execution_count": 43,
   "id": "5e56e465-935b-4e8f-80d7-62216434700c",
   "metadata": {},
   "outputs": [
    {
     "data": {
      "text/plain": [
       "'AC'"
      ]
     },
     "execution_count": 43,
     "metadata": {},
     "output_type": "execute_result"
    }
   ],
   "source": [
    "k[0:3:2]"
   ]
  },
  {
   "cell_type": "code",
   "execution_count": 44,
   "id": "5cc5bdc3-24b0-4c46-9c3f-25cf36d67c13",
   "metadata": {},
   "outputs": [
    {
     "data": {
      "text/plain": [
       "'AC'"
      ]
     },
     "execution_count": 44,
     "metadata": {},
     "output_type": "execute_result"
    }
   ],
   "source": [
    "k[: :2]"
   ]
  },
  {
   "cell_type": "code",
   "execution_count": 45,
   "id": "6c1759a1-cb99-43a6-bfaf-8517af34e833",
   "metadata": {},
   "outputs": [
    {
     "data": {
      "text/plain": [
       "'ABCD'"
      ]
     },
     "execution_count": 45,
     "metadata": {},
     "output_type": "execute_result"
    }
   ],
   "source": [
    "k[::1]"
   ]
  },
  {
   "cell_type": "code",
   "execution_count": null,
   "id": "09a4c08b-a61c-4a50-b57e-9128a0fe81f5",
   "metadata": {
    "tags": []
   },
   "outputs": [
    {
     "ename": "ValueError",
     "evalue": "slice step cannot be zero",
     "output_type": "error",
     "traceback": [
      "\u001b[0;31m---------------------------------------------------------------------------\u001b[0m",
      "\u001b[0;31mValueError\u001b[0m                                Traceback (most recent call last)",
      "Cell \u001b[0;32mIn[46], line 1\u001b[0m\n\u001b[0;32m----> 1\u001b[0m \u001b[43mk\u001b[49m\u001b[43m[\u001b[49m\u001b[43m:\u001b[49m\u001b[43m \u001b[49m\u001b[43m:\u001b[49m\u001b[43m \u001b[49m\u001b[38;5;241;43m0\u001b[39;49m\u001b[43m]\u001b[49m\n",
      "\u001b[0;31mValueError\u001b[0m: slice step cannot be zero"
     ]
    }
   ],
   "source": [
    "k[: : 0] ______ jump cant be 0"
   ]
  },
  {
   "cell_type": "code",
   "execution_count": 49,
   "id": "39571cfa-3abd-47bd-bd73-6005768d1451",
   "metadata": {
    "tags": []
   },
   "outputs": [
    {
     "data": {
      "text/plain": [
       "'DCBA'"
      ]
     },
     "execution_count": 49,
     "metadata": {},
     "output_type": "execute_result"
    }
   ],
   "source": [
    "k[::-1] "
   ]
  },
  {
   "cell_type": "code",
   "execution_count": 50,
   "id": "590d7a9f-f53b-44f8-b1c6-462ff1fa039a",
   "metadata": {},
   "outputs": [
    {
     "data": {
      "text/plain": [
       "''"
      ]
     },
     "execution_count": 50,
     "metadata": {},
     "output_type": "execute_result"
    }
   ],
   "source": [
    "k[1:4:-1]"
   ]
  },
  {
   "cell_type": "code",
   "execution_count": 51,
   "id": "ddfd0bc1-99fc-4205-88b0-054573a97fd0",
   "metadata": {},
   "outputs": [
    {
     "data": {
      "text/plain": [
       "''"
      ]
     },
     "execution_count": 51,
     "metadata": {},
     "output_type": "execute_result"
    }
   ],
   "source": [
    "k[4:0]"
   ]
  },
  {
   "cell_type": "code",
   "execution_count": 52,
   "id": "6809056f-40a3-4760-9e9e-294759f676b6",
   "metadata": {},
   "outputs": [
    {
     "data": {
      "text/plain": [
       "'DCB'"
      ]
     },
     "execution_count": 52,
     "metadata": {},
     "output_type": "execute_result"
    }
   ],
   "source": [
    "k[4:0:-1]"
   ]
  },
  {
   "cell_type": "code",
   "execution_count": null,
   "id": "371b6b82-3faf-4fd5-9c1b-c85f2111883a",
   "metadata": {},
   "outputs": [],
   "source": []
  }
 ],
 "metadata": {
  "kernelspec": {
   "display_name": "Python 3 (ipykernel)",
   "language": "python",
   "name": "python3"
  },
  "language_info": {
   "codemirror_mode": {
    "name": "ipython",
    "version": 3
   },
   "file_extension": ".py",
   "mimetype": "text/x-python",
   "name": "python",
   "nbconvert_exporter": "python",
   "pygments_lexer": "ipython3",
   "version": "3.10.8"
  }
 },
 "nbformat": 4,
 "nbformat_minor": 5
}
